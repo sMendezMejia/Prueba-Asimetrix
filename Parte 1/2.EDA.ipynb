{
 "cells": [
  {
   "cell_type": "code",
   "execution_count": 1,
   "metadata": {},
   "outputs": [],
   "source": [
    "import time\n",
    "import numpy as np\n",
    "import pandas as pd\n",
    "import matplotlib.pyplot as plt\n",
    "from json import load"
   ]
  },
  {
   "cell_type": "markdown",
   "metadata": {},
   "source": [
    "Primero carguemos los datos resultantes del proceso de ETL:"
   ]
  },
  {
   "cell_type": "code",
   "execution_count": 2,
   "metadata": {},
   "outputs": [
    {
     "data": {
      "text/html": [
       "<div>\n",
       "<style scoped>\n",
       "    .dataframe tbody tr th:only-of-type {\n",
       "        vertical-align: middle;\n",
       "    }\n",
       "\n",
       "    .dataframe tbody tr th {\n",
       "        vertical-align: top;\n",
       "    }\n",
       "\n",
       "    .dataframe thead th {\n",
       "        text-align: right;\n",
       "    }\n",
       "</style>\n",
       "<table border=\"1\" class=\"dataframe\">\n",
       "  <thead>\n",
       "    <tr style=\"text-align: right;\">\n",
       "      <th></th>\n",
       "      <th>lesionTipo</th>\n",
       "      <th>fecha</th>\n",
       "      <th>lesionRango</th>\n",
       "      <th>granja</th>\n",
       "      <th>edadEnDias</th>\n",
       "      <th>ciclo</th>\n",
       "      <th>noGalpon</th>\n",
       "      <th>planVacuna</th>\n",
       "      <th>influenzaVacuna</th>\n",
       "      <th>newcastleVacuna</th>\n",
       "      <th>gumboroVacuna</th>\n",
       "      <th>lesionPromedio</th>\n",
       "      <th>nAnimal</th>\n",
       "      <th>sexoAnimales</th>\n",
       "      <th>bursometro</th>\n",
       "      <th>condicionHigado</th>\n",
       "      <th>integridadIntestinal</th>\n",
       "    </tr>\n",
       "  </thead>\n",
       "  <tbody>\n",
       "    <tr>\n",
       "      <th>0</th>\n",
       "      <td>PiernasPalidas</td>\n",
       "      <td>30-12-2020 00:00:00</td>\n",
       "      <td>0-1</td>\n",
       "      <td>Fortuna</td>\n",
       "      <td>9.0</td>\n",
       "      <td>35.0</td>\n",
       "      <td>1.0</td>\n",
       "      <td>P1T3</td>\n",
       "      <td>Trovac</td>\n",
       "      <td>Merial</td>\n",
       "      <td>Avipro</td>\n",
       "      <td>0</td>\n",
       "      <td>1</td>\n",
       "      <td>M</td>\n",
       "      <td>3</td>\n",
       "      <td>-</td>\n",
       "      <td>10</td>\n",
       "    </tr>\n",
       "    <tr>\n",
       "      <th>1</th>\n",
       "      <td>Rasguños</td>\n",
       "      <td>30-12-2020 00:00:00</td>\n",
       "      <td>0-1</td>\n",
       "      <td>Fortuna</td>\n",
       "      <td>9.0</td>\n",
       "      <td>35.0</td>\n",
       "      <td>1.0</td>\n",
       "      <td>P1T3</td>\n",
       "      <td>Trovac</td>\n",
       "      <td>Merial</td>\n",
       "      <td>Avipro</td>\n",
       "      <td>0</td>\n",
       "      <td>1</td>\n",
       "      <td>M</td>\n",
       "      <td>3</td>\n",
       "      <td>-</td>\n",
       "      <td>10</td>\n",
       "    </tr>\n",
       "    <tr>\n",
       "      <th>2</th>\n",
       "      <td>LesionCojinetePlantar</td>\n",
       "      <td>30-12-2020 00:00:00</td>\n",
       "      <td>0-3</td>\n",
       "      <td>Fortuna</td>\n",
       "      <td>9.0</td>\n",
       "      <td>35.0</td>\n",
       "      <td>1.0</td>\n",
       "      <td>P1T3</td>\n",
       "      <td>Trovac</td>\n",
       "      <td>Merial</td>\n",
       "      <td>Avipro</td>\n",
       "      <td>0</td>\n",
       "      <td>1</td>\n",
       "      <td>M</td>\n",
       "      <td>3</td>\n",
       "      <td>-</td>\n",
       "      <td>10</td>\n",
       "    </tr>\n",
       "    <tr>\n",
       "      <th>3</th>\n",
       "      <td>LesionCavidadOral</td>\n",
       "      <td>30-12-2020 00:00:00</td>\n",
       "      <td>0-1</td>\n",
       "      <td>Fortuna</td>\n",
       "      <td>9.0</td>\n",
       "      <td>35.0</td>\n",
       "      <td>1.0</td>\n",
       "      <td>P1T3</td>\n",
       "      <td>Trovac</td>\n",
       "      <td>Merial</td>\n",
       "      <td>Avipro</td>\n",
       "      <td>0</td>\n",
       "      <td>1</td>\n",
       "      <td>M</td>\n",
       "      <td>3</td>\n",
       "      <td>-</td>\n",
       "      <td>10</td>\n",
       "    </tr>\n",
       "    <tr>\n",
       "      <th>4</th>\n",
       "      <td>RetencionSacoVitelino</td>\n",
       "      <td>30-12-2020 00:00:00</td>\n",
       "      <td>0-1</td>\n",
       "      <td>Fortuna</td>\n",
       "      <td>9.0</td>\n",
       "      <td>35.0</td>\n",
       "      <td>1.0</td>\n",
       "      <td>P1T3</td>\n",
       "      <td>Trovac</td>\n",
       "      <td>Merial</td>\n",
       "      <td>Avipro</td>\n",
       "      <td>1</td>\n",
       "      <td>1</td>\n",
       "      <td>M</td>\n",
       "      <td>3</td>\n",
       "      <td>-</td>\n",
       "      <td>10</td>\n",
       "    </tr>\n",
       "  </tbody>\n",
       "</table>\n",
       "</div>"
      ],
      "text/plain": [
       "              lesionTipo                fecha lesionRango   granja  \\\n",
       "0         PiernasPalidas  30-12-2020 00:00:00         0-1  Fortuna   \n",
       "1               Rasguños  30-12-2020 00:00:00         0-1  Fortuna   \n",
       "2  LesionCojinetePlantar  30-12-2020 00:00:00         0-3  Fortuna   \n",
       "3      LesionCavidadOral  30-12-2020 00:00:00         0-1  Fortuna   \n",
       "4  RetencionSacoVitelino  30-12-2020 00:00:00         0-1  Fortuna   \n",
       "\n",
       "   edadEnDias  ciclo  noGalpon planVacuna influenzaVacuna newcastleVacuna  \\\n",
       "0         9.0   35.0       1.0       P1T3          Trovac          Merial   \n",
       "1         9.0   35.0       1.0       P1T3          Trovac          Merial   \n",
       "2         9.0   35.0       1.0       P1T3          Trovac          Merial   \n",
       "3         9.0   35.0       1.0       P1T3          Trovac          Merial   \n",
       "4         9.0   35.0       1.0       P1T3          Trovac          Merial   \n",
       "\n",
       "  gumboroVacuna  lesionPromedio  nAnimal sexoAnimales  bursometro  \\\n",
       "0        Avipro               0        1            M           3   \n",
       "1        Avipro               0        1            M           3   \n",
       "2        Avipro               0        1            M           3   \n",
       "3        Avipro               0        1            M           3   \n",
       "4        Avipro               1        1            M           3   \n",
       "\n",
       "  condicionHigado  integridadIntestinal  \n",
       "0               -                    10  \n",
       "1               -                    10  \n",
       "2               -                    10  \n",
       "3               -                    10  \n",
       "4               -                    10  "
      ]
     },
     "execution_count": 2,
     "metadata": {},
     "output_type": "execute_result"
    }
   ],
   "source": [
    "tabla=pd.read_csv('ETL.csv')\n",
    "tabla.head()"
   ]
  },
  {
   "cell_type": "markdown",
   "metadata": {},
   "source": [
    "Ahora miremos datos nulos:"
   ]
  },
  {
   "cell_type": "code",
   "execution_count": 3,
   "metadata": {},
   "outputs": [
    {
     "data": {
      "text/plain": [
       "lesionTipo              0.0\n",
       "fecha                   0.0\n",
       "lesionRango             0.0\n",
       "granja                  5.0\n",
       "edadEnDias              5.0\n",
       "ciclo                   5.0\n",
       "noGalpon                5.0\n",
       "planVacuna              5.0\n",
       "influenzaVacuna         5.0\n",
       "newcastleVacuna         5.0\n",
       "gumboroVacuna           5.0\n",
       "lesionPromedio          0.0\n",
       "nAnimal                 0.0\n",
       "sexoAnimales            0.0\n",
       "bursometro              0.0\n",
       "condicionHigado         0.0\n",
       "integridadIntestinal    0.0\n",
       "dtype: float64"
      ]
     },
     "execution_count": 3,
     "metadata": {},
     "output_type": "execute_result"
    }
   ],
   "source": [
    "tabla.isnull().sum()/33 # se divide sobre 33 para determinar la cantidad de pollos"
   ]
  },
  {
   "cell_type": "markdown",
   "metadata": {},
   "source": [
    "Esto quiere decir que hay 5 pollos que en el archivo original no tienen la metadata como granja, edad, plan de vacunacion etc.\n",
    "\n",
    "Encontremos cual es la fecha de estos registros y luego revisemos el archivo de Excel:"
   ]
  },
  {
   "cell_type": "code",
   "execution_count": 4,
   "metadata": {},
   "outputs": [
    {
     "data": {
      "text/plain": [
       "22110    16-07-2020 00:00:00\n",
       "22111    16-07-2020 00:00:00\n",
       "22112    16-07-2020 00:00:00\n",
       "22113    16-07-2020 00:00:00\n",
       "22114    16-07-2020 00:00:00\n",
       "                ...         \n",
       "22270    16-07-2020 00:00:00\n",
       "22271    16-07-2020 00:00:00\n",
       "22272    16-07-2020 00:00:00\n",
       "22273    16-07-2020 00:00:00\n",
       "22274    16-07-2020 00:00:00\n",
       "Name: fecha, Length: 165, dtype: object"
      ]
     },
     "execution_count": 4,
     "metadata": {},
     "output_type": "execute_result"
    }
   ],
   "source": [
    "tabla.loc[tabla.loc[pd.isna(tabla[\"ciclo\"])].index]['fecha']"
   ]
  },
  {
   "cell_type": "markdown",
   "metadata": {},
   "source": [
    "Luego de revisar Excel se puede llegar a la conclusion que en la semana 29 se tiene registro solo de 20 pollos. Todas las otras semanas siempre registran 25 pollos.\n",
    "\n",
    "Para solucionar esto se pueden eliminar los registros que tengan estos campos vacios, algo que permitiria calcular la cantidad total de pollos registrados:"
   ]
  },
  {
   "cell_type": "code",
   "execution_count": 5,
   "metadata": {},
   "outputs": [
    {
     "data": {
      "text/plain": [
       "lesionTipo              0\n",
       "fecha                   0\n",
       "lesionRango             0\n",
       "granja                  0\n",
       "edadEnDias              0\n",
       "ciclo                   0\n",
       "noGalpon                0\n",
       "planVacuna              0\n",
       "influenzaVacuna         0\n",
       "newcastleVacuna         0\n",
       "gumboroVacuna           0\n",
       "lesionPromedio          0\n",
       "nAnimal                 0\n",
       "sexoAnimales            0\n",
       "bursometro              0\n",
       "condicionHigado         0\n",
       "integridadIntestinal    0\n",
       "dtype: int64"
      ]
     },
     "execution_count": 5,
     "metadata": {},
     "output_type": "execute_result"
    }
   ],
   "source": [
    "tabla.dropna(subset=['ciclo'],inplace=True)\n",
    "tabla.isnull().sum()"
   ]
  },
  {
   "cell_type": "code",
   "execution_count": 6,
   "metadata": {},
   "outputs": [
    {
     "name": "stdout",
     "output_type": "stream",
     "text": [
      "Cantidad de pollos registrados:\n"
     ]
    },
    {
     "data": {
      "text/plain": [
       "820.0"
      ]
     },
     "execution_count": 6,
     "metadata": {},
     "output_type": "execute_result"
    }
   ],
   "source": [
    "print(\"Cantidad de pollos registrados:\")\n",
    "tabla['lesionTipo'].value_counts().sum()/33"
   ]
  },
  {
   "cell_type": "markdown",
   "metadata": {},
   "source": [
    "Empecemos a revisar los datos erroneos de cada atributo.\n",
    "\n",
    "Los atributos 'lesionTipo' y 'lesionRango' son generados a traves de un DataFrame en especifico para todos los pollos, no a partir del archivo de Excel directamente, asi que estas dos columnas no tienen datos erroneos.\n",
    "\n",
    "**fecha:**\n",
    "\n",
    "Si al convertir las fechas en el dtype 'datatime' no se genera ningun error, quiere decir que las fechas si tienen un buen formato. "
   ]
  },
  {
   "cell_type": "code",
   "execution_count": 7,
   "metadata": {},
   "outputs": [
    {
     "data": {
      "text/plain": [
       "0       2020-12-30\n",
       "1       2020-12-30\n",
       "2       2020-12-30\n",
       "3       2020-12-30\n",
       "4       2020-12-30\n",
       "           ...    \n",
       "27220   2020-08-28\n",
       "27221   2020-08-28\n",
       "27222   2020-08-28\n",
       "27223   2020-08-28\n",
       "27224   2020-08-28\n",
       "Name: fecha, Length: 27060, dtype: datetime64[ns]"
      ]
     },
     "execution_count": 7,
     "metadata": {},
     "output_type": "execute_result"
    }
   ],
   "source": [
    "pd.to_datetime(tabla['fecha'])"
   ]
  },
  {
   "cell_type": "markdown",
   "metadata": {},
   "source": [
    "Asi que estos datos no son erroneos desde el punto de vista del formato. Si son erroneos por el hecho de que no fueron registrados ese dia, ya es algo fuera del alcance actual.\n",
    "\n",
    "**ciclo:**"
   ]
  },
  {
   "cell_type": "code",
   "execution_count": 8,
   "metadata": {},
   "outputs": [
    {
     "data": {
      "text/plain": [
       "36.0    240.0\n",
       "37.0    225.0\n",
       "38.0    170.0\n",
       "35.0    135.0\n",
       "39.0     50.0\n",
       "Name: ciclo, dtype: float64"
      ]
     },
     "execution_count": 8,
     "metadata": {},
     "output_type": "execute_result"
    }
   ],
   "source": [
    "tabla['ciclo'].value_counts()/33"
   ]
  },
  {
   "cell_type": "markdown",
   "metadata": {},
   "source": [
    "Todos los resultados se repiten una cantidad considerable de veces como para asumir que ninguno es un dato erroneo, ademas que son numeros entre el 35 y el 39, ninguno es atipico.\n",
    "\n",
    "**noGalpon:**"
   ]
  },
  {
   "cell_type": "code",
   "execution_count": 9,
   "metadata": {},
   "outputs": [
    {
     "data": {
      "text/plain": [
       "array([ 1.,  2.,  3.,  4.,  5.,  6.,  7.,  8.,  9., 10., 11.])"
      ]
     },
     "execution_count": 9,
     "metadata": {},
     "output_type": "execute_result"
    }
   ],
   "source": [
    "np.sort(tabla['noGalpon'].unique())"
   ]
  },
  {
   "cell_type": "markdown",
   "metadata": {},
   "source": [
    "Tranquilamente el numero de un galpon de pollos puede ser cualquier numero del 1 al 11.\n",
    "\n",
    "**planVacuna,influenzaVacuna,newcastleVacuna,gumboroVacuna:**"
   ]
  },
  {
   "cell_type": "code",
   "execution_count": 10,
   "metadata": {},
   "outputs": [
    {
     "data": {
      "text/plain": [
       "P1T3       410.0\n",
       "P3T1       225.0\n",
       "P2IANC3    185.0\n",
       "Name: planVacuna, dtype: float64"
      ]
     },
     "execution_count": 10,
     "metadata": {},
     "output_type": "execute_result"
    }
   ],
   "source": [
    "tabla['planVacuna'].value_counts()/33"
   ]
  },
  {
   "cell_type": "code",
   "execution_count": 11,
   "metadata": {},
   "outputs": [
    {
     "data": {
      "text/plain": [
       "Trovac    640.0\n",
       "Avimex    180.0\n",
       "Name: influenzaVacuna, dtype: float64"
      ]
     },
     "execution_count": 11,
     "metadata": {},
     "output_type": "execute_result"
    }
   ],
   "source": [
    "tabla['influenzaVacuna'].value_counts()/33"
   ]
  },
  {
   "cell_type": "code",
   "execution_count": 12,
   "metadata": {},
   "outputs": [
    {
     "data": {
      "text/plain": [
       "Merial    820.0\n",
       "Name: newcastleVacuna, dtype: float64"
      ]
     },
     "execution_count": 12,
     "metadata": {},
     "output_type": "execute_result"
    }
   ],
   "source": [
    "tabla['newcastleVacuna'].value_counts()/33"
   ]
  },
  {
   "cell_type": "code",
   "execution_count": 13,
   "metadata": {},
   "outputs": [
    {
     "data": {
      "text/plain": [
       "Bursavac    605.0\n",
       "Avipro      215.0\n",
       "Name: gumboroVacuna, dtype: float64"
      ]
     },
     "execution_count": 13,
     "metadata": {},
     "output_type": "execute_result"
    }
   ],
   "source": [
    "tabla['gumboroVacuna'].value_counts()/33"
   ]
  },
  {
   "cell_type": "markdown",
   "metadata": {},
   "source": [
    "Ninguno de estos 4 atributos tampoco presenta datos erroneos. Pero se plantea una interrogante ¿Es necesario guardar newcastleVacuna sabiendo que siempre es la misma vacuna?\n",
    "\n",
    "**nAnimal:**"
   ]
  },
  {
   "cell_type": "code",
   "execution_count": 14,
   "metadata": {},
   "outputs": [
    {
     "data": {
      "text/plain": [
       "array([1, 2, 3, 4, 5], dtype=int64)"
      ]
     },
     "execution_count": 14,
     "metadata": {},
     "output_type": "execute_result"
    }
   ],
   "source": [
    "np.sort(tabla['nAnimal'].unique())"
   ]
  },
  {
   "cell_type": "markdown",
   "metadata": {},
   "source": [
    "Tal cual se esperaba, los unicos numeros que deberian estar son {1,2,3,4,5}\n",
    "\n",
    "**integridadIntestinal:**"
   ]
  },
  {
   "cell_type": "code",
   "execution_count": 15,
   "metadata": {},
   "outputs": [
    {
     "data": {
      "text/plain": [
       "0     367.0\n",
       "8     180.0\n",
       "9     156.0\n",
       "10     66.0\n",
       "7      48.0\n",
       "6       2.0\n",
       "5       1.0\n",
       "Name: integridadIntestinal, dtype: float64"
      ]
     },
     "execution_count": 15,
     "metadata": {},
     "output_type": "execute_result"
    }
   ],
   "source": [
    "tabla['integridadIntestinal'].value_counts()/33"
   ]
  },
  {
   "cell_type": "markdown",
   "metadata": {},
   "source": [
    "En este caso en ninguna de las semanas registradas en Excel se muestra el rango para este atributo, pero asumiendo por los tipos de datos que aunque el numero 6 y 5 apenas se registran solo un par de veces puede que tenga sentido si se evalua en una escala de 0 a 10. Asi que se asume que no son erroneos. Los registros con 0 son registros que estaban vacios en Excel."
   ]
  },
  {
   "cell_type": "code",
   "execution_count": 16,
   "metadata": {},
   "outputs": [
    {
     "data": {
      "text/plain": [
       "-         558.0\n",
       "TX        142.0\n",
       "T          54.0\n",
       "TX-C       33.0\n",
       "TX-C-T     13.0\n",
       "C-T         6.0\n",
       "C           6.0\n",
       "TX-T        5.0\n",
       "T           2.0\n",
       "T-C         1.0\n",
       "Name: condicionHigado, dtype: float64"
      ]
     },
     "execution_count": 16,
     "metadata": {},
     "output_type": "execute_result"
    }
   ],
   "source": [
    "tabla['condicionHigado'].value_counts()/33"
   ]
  },
  {
   "cell_type": "markdown",
   "metadata": {},
   "source": [
    "Segun el archivo de Excel, los score pueden ser TX-C-T asi que se asume que estas combinaciones son correctas, ya se podria consultar con algun experto para validar esto.\n",
    "\n",
    "**edadEnDias:**"
   ]
  },
  {
   "cell_type": "code",
   "execution_count": 17,
   "metadata": {},
   "outputs": [
    {
     "data": {
      "text/plain": [
       "array([ 3.,  6.,  7.,  8.,  9., 11., 12., 13., 14., 15., 16., 20., 21.,\n",
       "       22., 23., 24., 26., 27., 28., 29., 30., 33., 34., 35., 36., 37.])"
      ]
     },
     "execution_count": 17,
     "metadata": {},
     "output_type": "execute_result"
    }
   ],
   "source": [
    "np.sort(tabla['edadEnDias'].unique())"
   ]
  },
  {
   "cell_type": "markdown",
   "metadata": {},
   "source": [
    "Cualquiera de estos numeros puede ser tranquilamente la edad de un pollo, asi que estos datos tambien estan correctos. \n",
    "\n",
    "**granja:**"
   ]
  },
  {
   "cell_type": "code",
   "execution_count": 18,
   "metadata": {},
   "outputs": [
    {
     "data": {
      "text/plain": [
       "Vergel          260.0\n",
       "Amanecer        185.0\n",
       "San Felipe      115.0\n",
       "Miramar          80.0\n",
       "Roalpa           50.0\n",
       "Delicias         50.0\n",
       "Fortuna          40.0\n",
       "Montellano       10.0\n",
       "Deicias          10.0\n",
       "Vergel            5.0\n",
       "Sta. Delfina      5.0\n",
       "Fortuna           5.0\n",
       "Santa Defina      5.0\n",
       "Name: granja, dtype: float64"
      ]
     },
     "execution_count": 18,
     "metadata": {},
     "output_type": "execute_result"
    }
   ],
   "source": [
    "tabla['granja'].value_counts()/33"
   ]
  },
  {
   "cell_type": "markdown",
   "metadata": {},
   "source": [
    "El archivo json arroja las siguientes granjas:"
   ]
  },
  {
   "cell_type": "code",
   "execution_count": 19,
   "metadata": {},
   "outputs": [
    {
     "data": {
      "text/plain": [
       "{'amanecer': 'Amanecer',\n",
       " 'fortuna': 'Fortuna',\n",
       " 'mangales': 'Mangales',\n",
       " 'delicias': 'Las Delicias PS',\n",
       " 'deicias': 'Las Delicias PS',\n",
       " 'montellano': 'Montellano',\n",
       " 'roalpa': 'Roalpa',\n",
       " 'santadefina': 'Santa Delfina',\n",
       " 'sta.delfina': 'Santa Delfina',\n",
       " 'santadelfina': 'Santa Delfina',\n",
       " 'venecia': 'Venecia',\n",
       " 'vergeli': 'Vergel I PS',\n",
       " 'vergelii': 'Vergel II PS',\n",
       " 'vergel': 'Vergel',\n",
       " 'sanfelipe': 'San Felipe',\n",
       " 'miramar': 'Miramar'}"
      ]
     },
     "execution_count": 19,
     "metadata": {},
     "output_type": "execute_result"
    }
   ],
   "source": [
    "load(open('aux_data.json'))[0]['granja']"
   ]
  },
  {
   "cell_type": "markdown",
   "metadata": {},
   "source": [
    "Tecnicamente si todos los valores de la columna 'granja' se les aplica lower(), luego se remueven los espacios ' ' y se evalua cada uno de estos resultados como llaves del diccionario de granjas(obtenido del json) no se tendria ningun dato erroneo, pero si nos ponemos mas tecnicos, 15 pollos tienen granjas erroneas, 5 con 'Vergel ' en lugar de 'Vergel' y otras 10 tienen o 'Santa Defina' o 'Sta. Delfina' los cuales deberian ser 'Santa Delfina'. \n",
    "\n",
    "Igual solucionar este caso tampoco es dificil:"
   ]
  },
  {
   "cell_type": "code",
   "execution_count": 20,
   "metadata": {},
   "outputs": [
    {
     "data": {
      "text/plain": [
       "Vergel           265.0\n",
       "Amanecer         185.0\n",
       "San Felipe       115.0\n",
       "Miramar           80.0\n",
       "Roalpa            50.0\n",
       "Delicias          50.0\n",
       "Fortuna           45.0\n",
       "Montellano        10.0\n",
       "Santa Delfina     10.0\n",
       "Deicias           10.0\n",
       "Name: granja, dtype: float64"
      ]
     },
     "execution_count": 20,
     "metadata": {},
     "output_type": "execute_result"
    }
   ],
   "source": [
    "tabla['granja'].str.strip()\\\n",
    "    .replace(['Sta. Delfina','Santa Defina'],'Santa Delfina')\\\n",
    "    .value_counts()/33"
   ]
  },
  {
   "cell_type": "markdown",
   "metadata": {},
   "source": [
    "**sexoAnimales:**"
   ]
  },
  {
   "cell_type": "code",
   "execution_count": 21,
   "metadata": {},
   "outputs": [
    {
     "data": {
      "text/plain": [
       "-         367.0\n",
       "M         202.0\n",
       "H         198.0\n",
       "M          30.0\n",
       "Macho       8.0\n",
       "Hem         6.0\n",
       "Hembra      3.0\n",
       "S           2.0\n",
       "J           2.0\n",
       "Mac         2.0\n",
       "Name: sexoAnimales, dtype: float64"
      ]
     },
     "execution_count": 21,
     "metadata": {},
     "output_type": "execute_result"
    }
   ],
   "source": [
    "tabla['sexoAnimales'].value_counts()/33"
   ]
  },
  {
   "cell_type": "markdown",
   "metadata": {},
   "source": [
    "Los correctos son M y H. Todos los datos erroneos a excepcion de 'S' y 'J' se pueden corregir de la siguiente manera:"
   ]
  },
  {
   "cell_type": "code",
   "execution_count": 22,
   "metadata": {},
   "outputs": [
    {
     "data": {
      "text/plain": [
       "-    367.0\n",
       "M    242.0\n",
       "H    207.0\n",
       "S      2.0\n",
       "J      2.0\n",
       "Name: sexoAnimales, dtype: float64"
      ]
     },
     "execution_count": 22,
     "metadata": {},
     "output_type": "execute_result"
    }
   ],
   "source": [
    "tabla['sexoAnimales'].replace(\n",
    "    {\n",
    "        'M ':'M',\n",
    "        'Macho':'M',\n",
    "        'Mac':'M',\n",
    "        'Hem':'H',\n",
    "        'Hembra':'H',\n",
    "    }\n",
    ").value_counts()/33"
   ]
  },
  {
   "cell_type": "markdown",
   "metadata": {},
   "source": [
    "Quedarian 4 pollos con sexos erroneos. El simbolo '-' es para aquellos que no se les asignó nunca el atributo de sexo.\n",
    "\n",
    "**bursometro:**\n",
    "Este debe estar entre 0 y 8"
   ]
  },
  {
   "cell_type": "code",
   "execution_count": 23,
   "metadata": {},
   "outputs": [
    {
     "data": {
      "text/plain": [
       "array([-1,  0,  1,  2,  3,  4,  5,  6,  7,  8,  9], dtype=int64)"
      ]
     },
     "execution_count": 23,
     "metadata": {},
     "output_type": "execute_result"
    }
   ],
   "source": [
    "np.sort(tabla['bursometro'].unique())"
   ]
  },
  {
   "cell_type": "markdown",
   "metadata": {},
   "source": [
    "Hay registros que tienen -1 o 9, busquemolos:"
   ]
  },
  {
   "cell_type": "code",
   "execution_count": 24,
   "metadata": {},
   "outputs": [
    {
     "data": {
      "text/plain": [
       "(99, 17)"
      ]
     },
     "execution_count": 24,
     "metadata": {},
     "output_type": "execute_result"
    }
   ],
   "source": [
    "tabla.query(\"bursometro>8 or bursometro<0\").shape"
   ]
  },
  {
   "cell_type": "markdown",
   "metadata": {},
   "source": [
    "El 9 pudo haber sido un error de tecleo, pero no se puede saber a ciencia cierta. El -1 si fue algo que se ingresó a proposito, pero tampoco se puede saber que se queria hacer. En este caso no se pueden modificar los datos erroneos. Ya se debe discutir si se mantienen estos datos o se eliminan de la tabla. \n",
    "\n",
    "**lesionTipo:**\n",
    "\n",
    "Se asume que el dato es erroneo cuando no pertenece al rango de la lesion"
   ]
  },
  {
   "cell_type": "code",
   "execution_count": 25,
   "metadata": {
    "scrolled": true
   },
   "outputs": [
    {
     "name": "stdout",
     "output_type": "stream",
     "text": [
      "Traqueitis 0-3\n",
      "[0 1 2 3]\n",
      "\n",
      "ExcesoFluidoIntestinal 0-1\n",
      "[0 1]\n",
      "\n",
      "Ascaridios/GusanosRedondos 0-1\n",
      "[0 1]\n",
      "\n",
      "Ascitis 0-1\n",
      "[0]\n",
      "\n",
      "Aspergilosis 0-1\n",
      "[0]\n",
      "\n",
      "AtrofiaTimo 0-2\n",
      "[0 6]\n",
      "\n",
      "Cardiovascular 0-3\n",
      "[0 1 4 6 2 3]\n",
      "\n",
      "ComedorCama 0-1\n",
      "[0 1]\n",
      "\n",
      "DañoBolsa 0-3\n",
      "[0 1 3 2]\n",
      "\n",
      "DescamacionIntestinal 0-2\n",
      "[0 1 2]\n",
      "\n",
      "DiscondroplasiaTibial 0-3\n",
      "[0 3 1]\n",
      "\n",
      "E.acervulina 0-4\n",
      "[0 1 3 2]\n",
      "\n",
      "E.maxima 0-4\n",
      "[0 1 5 2]\n",
      "\n",
      "E.tenella 0-4\n",
      "[0 1 2 3]\n",
      "\n",
      "EnteritisNecrotica 0-1\n",
      "[0 1]\n",
      "\n",
      "ErosionMolleja 0-3\n",
      "[0 1 2 3 4]\n",
      "\n",
      "ExcesoMocoIntestinal 0-2\n",
      "[0 1 2]\n",
      "\n",
      "Tenias 0-1\n",
      "[0 1]\n",
      "\n",
      "GasCecal 0-2\n",
      "[0 1 3 2 5]\n",
      "\n",
      "HemorragiasPetequiales 0-1\n",
      "[0 1]\n",
      "\n",
      "HiperemiaIntestinal 0-1\n",
      "[0 1]\n",
      "\n",
      "IntestinosAdelgazados 0-2\n",
      "[0 5 1]\n",
      "\n",
      "IntestinosEngrosados 0-1\n",
      "[0 1]\n",
      "\n",
      "LesionCavidadOral 0-1\n",
      "[0 1]\n",
      "\n",
      "LesionCojinetePlantar 0-3\n",
      "[0 1 2 3]\n",
      "\n",
      "NecrosisCabezaFemur 0-1\n",
      "[0 1]\n",
      "\n",
      "PasajeAlimento 0-2\n",
      "[0 1 3 2 5]\n",
      "\n",
      "PiernasPalidas 0-1\n",
      "[0 1]\n",
      "\n",
      "Proventriculitis 0-3\n",
      "[0 1 2]\n",
      "\n",
      "QuemaduraAmoniaco 0-1\n",
      "[0]\n",
      "\n",
      "Rasguños 0-1\n",
      "[0 1 2]\n",
      "\n",
      "RetencionSacoVitelino 0-1\n",
      "[1 2 0]\n",
      "\n",
      "Aerosaculitis 0-4\n",
      "[0 1 2 3 4]\n",
      "\n"
     ]
    }
   ],
   "source": [
    "datos_lesiones=tabla[['lesionTipo','lesionRango']].value_counts().reset_index()[['lesionTipo','lesionRango']]\n",
    "erroneos=[]\n",
    "for lesion,rango in zip(datos_lesiones['lesionTipo'],datos_lesiones['lesionRango']):\n",
    "    print(lesion,rango)\n",
    "    conjunto=tabla.groupby('lesionTipo')['lesionPromedio'].unique()[lesion]\n",
    "    print(conjunto)\n",
    "    mayor=int(rango[-1])\n",
    "    cantidad=tabla.query(\"lesionTipo==@lesion and (lesionPromedio>@mayor or lesionPromedio<0)\").shape[0]\n",
    "    if cantidad>0:\n",
    "        erroneos.append({'lesion':lesion,'erroneos':cantidad})\n",
    "    print()"
   ]
  },
  {
   "cell_type": "markdown",
   "metadata": {},
   "source": [
    "A continuacion se muestran las lesiones que tienen datos erroneos con sus respectivas cantidades:"
   ]
  },
  {
   "cell_type": "code",
   "execution_count": 26,
   "metadata": {},
   "outputs": [
    {
     "data": {
      "text/plain": [
       "[{'lesion': 'AtrofiaTimo', 'erroneos': 1},\n",
       " {'lesion': 'Cardiovascular', 'erroneos': 2},\n",
       " {'lesion': 'E.maxima', 'erroneos': 1},\n",
       " {'lesion': 'ErosionMolleja', 'erroneos': 1},\n",
       " {'lesion': 'GasCecal', 'erroneos': 2},\n",
       " {'lesion': 'IntestinosAdelgazados', 'erroneos': 1},\n",
       " {'lesion': 'PasajeAlimento', 'erroneos': 2},\n",
       " {'lesion': 'Rasguños', 'erroneos': 1},\n",
       " {'lesion': 'RetencionSacoVitelino', 'erroneos': 3}]"
      ]
     },
     "execution_count": 26,
     "metadata": {},
     "output_type": "execute_result"
    }
   ],
   "source": [
    "erroneos"
   ]
  },
  {
   "cell_type": "markdown",
   "metadata": {},
   "source": [
    "Al igual que bursometro no se puede saber a ciencia cierta que hacer con estos datos erroneos para modificarlos y que ya vuelvan datos correctos. La unica alternativa es discutir si mantener estos datos o eliminarlos de la tabla.\n",
    "\n",
    "Por ultimo, calculemos la cantidad de registros y pollos con datos erroneos:"
   ]
  },
  {
   "cell_type": "code",
   "execution_count": 27,
   "metadata": {},
   "outputs": [],
   "source": [
    "tabla_e1=tabla.query(\"granja=='Vergel ' or granja=='Sta. Delfina' or granja=='Santa Defina'\")\n",
    "\n",
    "sexos=tabla['sexoAnimales'].unique()\n",
    "query=f\"sexoAnimales=='{sexos[3]}'\"\n",
    "for x in sexos[4:]:\n",
    "    query+=f\" or sexoAnimales=='{x}'\"\n",
    "tabla_e2=tabla.query(query)\n",
    "\n",
    "tabla_e3=tabla.query(\"bursometro>8 or bursometro<0\")\n",
    "\n",
    "datos_lesiones=tabla[['lesionTipo','lesionRango']].value_counts().reset_index()[['lesionTipo','lesionRango']]\n",
    "lista_e=[]\n",
    "for lesion,rango in zip(datos_lesiones['lesionTipo'],datos_lesiones['lesionRango']):\n",
    "    mayor=int(rango[-1])\n",
    "    consulta=tabla.query(\"lesionTipo==@lesion and (lesionPromedio>@mayor or lesionPromedio<0)\")\n",
    "    if consulta.shape[0]>0:\n",
    "        lista_e.append(consulta)\n",
    "tabla_e4=pd.concat(lista_e)"
   ]
  },
  {
   "cell_type": "code",
   "execution_count": 28,
   "metadata": {},
   "outputs": [
    {
     "name": "stdout",
     "output_type": "stream",
     "text": [
      "Cantidad de registros con al menos un dato erroneo:\n"
     ]
    },
    {
     "data": {
      "text/plain": [
       "2281"
      ]
     },
     "execution_count": 28,
     "metadata": {},
     "output_type": "execute_result"
    }
   ],
   "source": [
    "print(\"Cantidad de registros con al menos un dato erroneo:\")\n",
    "pd.concat([tabla_e1,tabla_e2,tabla_e3,tabla_e4]).drop_duplicates().shape[0]"
   ]
  },
  {
   "cell_type": "code",
   "execution_count": 29,
   "metadata": {},
   "outputs": [
    {
     "name": "stdout",
     "output_type": "stream",
     "text": [
      "Pollos con datos erroneos:\n"
     ]
    },
    {
     "data": {
      "text/plain": [
       "73.0"
      ]
     },
     "execution_count": 29,
     "metadata": {},
     "output_type": "execute_result"
    }
   ],
   "source": [
    "print(\"Pollos con datos erroneos:\")\n",
    "x=pd.concat([tabla_e1,tabla_e2,tabla_e3]).drop_duplicates().shape[0]\n",
    "x/33+(pd.concat([tabla_e1,tabla_e2,tabla_e3,tabla_e4]).drop_duplicates().shape[0]-x)"
   ]
  },
  {
   "cell_type": "markdown",
   "metadata": {},
   "source": [
    "# Preguntas:\n",
    "\n",
    "¿Cuántos pollos tienen datos erróneos? \n",
    "\n",
    "R:\\ 73\n",
    "\n",
    "¿Qué hacemos con datos erróneos?\n",
    "\n",
    "R:\\ Hay casos donde pueden ser reemplazados por valores correctos, hay otros que se deben eliminar o mantener asi ya que no hay manera saber cual es el dato correcto. Esto igual se explica a lo largo del notebook.\n",
    "\n",
    "¿Cuántos registros de la tabla final contienen datos erróneos?\n",
    "\n",
    "R:\\ 2281 tienen al menos un atributo erroneo."
   ]
  }
 ],
 "metadata": {
  "interpreter": {
   "hash": "7cb436972df7f504d1b17ca4b6a761f81783dbdedd133c77f170786925feffbd"
  },
  "kernelspec": {
   "display_name": "Python 3.8.5 64-bit ('base': conda)",
   "name": "python3"
  },
  "language_info": {
   "codemirror_mode": {
    "name": "ipython",
    "version": 3
   },
   "file_extension": ".py",
   "mimetype": "text/x-python",
   "name": "python",
   "nbconvert_exporter": "python",
   "pygments_lexer": "ipython3",
   "version": "3.8.5"
  }
 },
 "nbformat": 4,
 "nbformat_minor": 4
}
