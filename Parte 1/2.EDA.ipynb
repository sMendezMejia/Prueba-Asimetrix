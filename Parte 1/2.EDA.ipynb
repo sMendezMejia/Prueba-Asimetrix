{
 "cells": [
  {
   "cell_type": "code",
   "execution_count": null,
   "metadata": {},
   "outputs": [],
   "source": [
    "import time\n",
    "import numpy as np\n",
    "import pandas as pd\n",
    "import matplotlib.pyplot as plt\n",
    "from json import load"
   ]
  },
  {
   "cell_type": "markdown",
   "metadata": {},
   "source": [
    "Primero carguemos los datos resultantes del proceso de ETL:"
   ]
  },
  {
   "cell_type": "code",
   "execution_count": null,
   "metadata": {},
   "outputs": [],
   "source": [
    "tabla=pd.read_csv('ETL.csv')\n",
    "tabla.head()"
   ]
  },
  {
   "cell_type": "markdown",
   "metadata": {},
   "source": [
    "Ahora miremos datos nulos:"
   ]
  },
  {
   "cell_type": "code",
   "execution_count": null,
   "metadata": {},
   "outputs": [],
   "source": [
    "tabla.isnull().sum()/33 # se divide sobre 33 para determinar la cantidad de pollos"
   ]
  },
  {
   "cell_type": "markdown",
   "metadata": {},
   "source": [
    "Esto quiere decir que hay 5 pollos que en el archivo original no tienen la metadata como granja, edad, plan de vacunacion etc.\n",
    "\n",
    "Encontremos cual es la fecha de estos registros y luego revisemos el archivo de Excel:"
   ]
  },
  {
   "cell_type": "code",
   "execution_count": null,
   "metadata": {},
   "outputs": [],
   "source": [
    "tabla.loc[tabla.loc[pd.isna(tabla[\"ciclo\"])].index]['fecha']"
   ]
  },
  {
   "cell_type": "markdown",
   "metadata": {},
   "source": [
    "Luego de revisar Excel se puede llegar a la conclusion que en la semana 29 se tiene registro solo de 20 pollos. Todas las otras semanas siempre registran 25 pollos.\n",
    "\n",
    "Para solucionar esto se pueden eliminar los registros que tengan estos campos vacios, algo que permitiria calcular la cantidad total de pollos registrados:"
   ]
  },
  {
   "cell_type": "code",
   "execution_count": null,
   "metadata": {},
   "outputs": [],
   "source": [
    "tabla.dropna(subset=['ciclo'],inplace=True)\n",
    "tabla.isnull().sum()"
   ]
  },
  {
   "cell_type": "code",
   "execution_count": null,
   "metadata": {},
   "outputs": [],
   "source": [
    "print(\"Cantidad de pollos registrados:\")\n",
    "tabla['lesionTipo'].value_counts().sum()/33"
   ]
  },
  {
   "cell_type": "markdown",
   "metadata": {},
   "source": [
    "Empecemos a revisar los datos erroneos de cada atributo.\n",
    "\n",
    "Los atributos 'lesionTipo' y 'lesionRango' son generados a traves de un DataFrame en especifico para todos los pollos, no a partir del archivo de Excel directamente, asi que estas dos columnas no tienen datos erroneos.\n",
    "\n",
    "**fecha:**\n",
    "\n",
    "Si al convertir las fechas en el dtype 'datatime' no se genera ningun error, quiere decir que las fechas si tienen un buen formato. "
   ]
  },
  {
   "cell_type": "code",
   "execution_count": null,
   "metadata": {},
   "outputs": [],
   "source": [
    "pd.to_datetime(tabla['fecha'])"
   ]
  },
  {
   "cell_type": "markdown",
   "metadata": {},
   "source": [
    "Asi que estos datos no son erroneos desde el punto de vista del formato. Si son erroneos por el hecho de que no fueron registrados ese dia, ya es algo fuera del alcance actual.\n",
    "\n",
    "**ciclo:**"
   ]
  },
  {
   "cell_type": "code",
   "execution_count": null,
   "metadata": {},
   "outputs": [],
   "source": [
    "tabla['ciclo'].value_counts()/33"
   ]
  },
  {
   "cell_type": "markdown",
   "metadata": {},
   "source": [
    "Todos los resultados se repiten una cantidad considerable de veces como para asumir que ninguno es un dato erroneo, ademas que son numeros entre el 35 y el 39, ninguno es atipico.\n",
    "\n",
    "**noGalpon:**"
   ]
  },
  {
   "cell_type": "code",
   "execution_count": null,
   "metadata": {},
   "outputs": [],
   "source": [
    "np.sort(tabla['noGalpon'].unique())"
   ]
  },
  {
   "cell_type": "markdown",
   "metadata": {},
   "source": [
    "Tranquilamente el numero de un galpon de pollos puede ser cualquier numero del 1 al 11.\n",
    "\n",
    "**planVacuna,influenzaVacuna,newcastleVacuna,gumboroVacuna:**"
   ]
  },
  {
   "cell_type": "code",
   "execution_count": null,
   "metadata": {},
   "outputs": [],
   "source": [
    "tabla['planVacuna'].value_counts()/33"
   ]
  },
  {
   "cell_type": "code",
   "execution_count": null,
   "metadata": {},
   "outputs": [],
   "source": [
    "tabla['influenzaVacuna'].value_counts()/33"
   ]
  },
  {
   "cell_type": "code",
   "execution_count": null,
   "metadata": {},
   "outputs": [],
   "source": [
    "tabla['newcastleVacuna'].value_counts()/33"
   ]
  },
  {
   "cell_type": "code",
   "execution_count": null,
   "metadata": {},
   "outputs": [],
   "source": [
    "tabla['gumboroVacuna'].value_counts()/33"
   ]
  },
  {
   "cell_type": "markdown",
   "metadata": {},
   "source": [
    "Ninguno de estos 4 atributos tampoco presenta datos erroneos. Pero se plantea una interrogante ¿Es necesario guardar newcastleVacuna sabiendo que siempre es la misma vacuna?\n",
    "\n",
    "**nAnimal:**"
   ]
  },
  {
   "cell_type": "code",
   "execution_count": null,
   "metadata": {},
   "outputs": [],
   "source": [
    "np.sort(tabla['nAnimal'].unique())"
   ]
  },
  {
   "cell_type": "markdown",
   "metadata": {},
   "source": [
    "Tal cual se esperaba, los unicos numeros que deberian estar son {1,2,3,4,5}\n",
    "\n",
    "**integridadIntestinal:**"
   ]
  },
  {
   "cell_type": "code",
   "execution_count": null,
   "metadata": {},
   "outputs": [],
   "source": [
    "tabla['integridadIntestinal'].value_counts()/33"
   ]
  },
  {
   "cell_type": "markdown",
   "metadata": {},
   "source": [
    "En este caso en ninguna de las semanas registradas en Excel se muestra el rango para este atributo, pero asumiendo por los tipos de datos que aunque el numero 6 y 5 apenas se registran solo un par de veces puede que tenga sentido si se evalua en una escala de 0 a 10. Asi que se asume que no son erroneos. Los registros con 0 son registros que estaban vacios en Excel."
   ]
  },
  {
   "cell_type": "code",
   "execution_count": null,
   "metadata": {},
   "outputs": [],
   "source": [
    "tabla['condicionHigado'].value_counts()/33"
   ]
  },
  {
   "cell_type": "markdown",
   "metadata": {},
   "source": [
    "Segun el archivo de Excel, los score pueden ser TX-C-T asi que se asume que estas combinaciones son correctas, ya se podria consultar con algun experto para validar esto.\n",
    "\n",
    "**edadEnDias:**"
   ]
  },
  {
   "cell_type": "code",
   "execution_count": null,
   "metadata": {},
   "outputs": [],
   "source": [
    "np.sort(tabla['edadEnDias'].unique())"
   ]
  },
  {
   "cell_type": "markdown",
   "metadata": {},
   "source": [
    "Cualquiera de estos numeros puede ser tranquilamente la edad de un pollo, asi que estos datos tambien estan correctos. \n",
    "\n",
    "**granja:**"
   ]
  },
  {
   "cell_type": "code",
   "execution_count": null,
   "metadata": {},
   "outputs": [],
   "source": [
    "tabla['granja'].value_counts()/33"
   ]
  },
  {
   "cell_type": "markdown",
   "metadata": {},
   "source": [
    "El archivo json arroja las siguientes granjas:"
   ]
  },
  {
   "cell_type": "code",
   "execution_count": null,
   "metadata": {},
   "outputs": [],
   "source": [
    "load(open('aux_data.json'))[0]['granja']"
   ]
  },
  {
   "cell_type": "markdown",
   "metadata": {},
   "source": [
    "Tecnicamente si todos los valores de la columna 'granja' se les aplica lower(), luego se remueven los espacios ' ' y se evalua cada uno de estos resultados como llaves del diccionario de granjas(obtenido del json) no se tendria ningun dato erroneo, pero si nos ponemos mas tecnicos, 15 pollos tienen granjas erroneas, 5 con 'Vergel ' en lugar de 'Vergel' y otras 10 tienen o 'Santa Defina' o 'Sta. Delfina' los cuales deberian ser 'Santa Delfina'. \n",
    "\n",
    "Igual solucionar este caso tampoco es dificil:"
   ]
  },
  {
   "cell_type": "code",
   "execution_count": null,
   "metadata": {},
   "outputs": [],
   "source": [
    "tabla['granja'].str.strip()\\\n",
    "    .replace(['Sta. Delfina','Santa Defina'],'Santa Delfina')\\\n",
    "    .value_counts()/33"
   ]
  },
  {
   "cell_type": "markdown",
   "metadata": {},
   "source": [
    "**sexoAnimales:**"
   ]
  },
  {
   "cell_type": "code",
   "execution_count": null,
   "metadata": {},
   "outputs": [],
   "source": [
    "tabla['sexoAnimales'].value_counts()/33"
   ]
  },
  {
   "cell_type": "markdown",
   "metadata": {},
   "source": [
    "Los correctos son M y H. Todos los datos erroneos a excepcion de 'S' y 'J' se pueden corregir de la siguiente manera:"
   ]
  },
  {
   "cell_type": "code",
   "execution_count": null,
   "metadata": {},
   "outputs": [],
   "source": [
    "tabla['sexoAnimales'].replace(\n",
    "    {\n",
    "        'M ':'M',\n",
    "        'Macho':'M',\n",
    "        'Mac':'M',\n",
    "        'Hem':'H',\n",
    "        'Hembra':'H',\n",
    "    }\n",
    ").value_counts()/33"
   ]
  },
  {
   "cell_type": "markdown",
   "metadata": {},
   "source": [
    "Quedarian 4 pollos con sexos erroneos. El simbolo '-' es para aquellos que no se les asignó nunca el atributo de sexo.\n",
    "\n",
    "**bursometro:**\n",
    "Este debe estar entre 0 y 8"
   ]
  },
  {
   "cell_type": "code",
   "execution_count": null,
   "metadata": {},
   "outputs": [],
   "source": [
    "np.sort(tabla['bursometro'].unique())"
   ]
  },
  {
   "cell_type": "markdown",
   "metadata": {},
   "source": [
    "Hay registros que tienen -1 o 9, busquemolos:"
   ]
  },
  {
   "cell_type": "code",
   "execution_count": null,
   "metadata": {},
   "outputs": [],
   "source": [
    "tabla.query(\"bursometro>8 or bursometro<0\").shape"
   ]
  },
  {
   "cell_type": "markdown",
   "metadata": {},
   "source": [
    "El 9 pudo haber sido un error de tecleo, pero no se puede saber a ciencia cierta. El -1 si fue algo que se ingresó a proposito, pero tampoco se puede saber que se queria hacer. En este caso no se pueden modificar los datos erroneos. Ya se debe discutir si se mantienen estos datos o se eliminan de la tabla. \n",
    "\n",
    "**lesionTipo:**\n",
    "\n",
    "Se asume que el dato es erroneo cuando no pertenece al rango de la lesion"
   ]
  },
  {
   "cell_type": "code",
   "execution_count": null,
   "metadata": {
    "scrolled": true
   },
   "outputs": [],
   "source": [
    "datos_lesiones=tabla[['lesionTipo','lesionRango']].value_counts().reset_index()[['lesionTipo','lesionRango']]\n",
    "erroneos=[]\n",
    "for lesion,rango in zip(datos_lesiones['lesionTipo'],datos_lesiones['lesionRango']):\n",
    "    print(lesion,rango)\n",
    "    conjunto=tabla.groupby('lesionTipo')['lesionPromedio'].unique()[lesion]\n",
    "    print(conjunto)\n",
    "    mayor=int(rango[-1])\n",
    "    cantidad=tabla.query(\"lesionTipo==@lesion and (lesionPromedio>@mayor or lesionPromedio<0)\").shape[0]\n",
    "    if cantidad>0:\n",
    "        erroneos.append({'lesion':lesion,'erroneos':cantidad})\n",
    "    print()"
   ]
  },
  {
   "cell_type": "markdown",
   "metadata": {},
   "source": [
    "A continuacion se muestran las lesiones que tienen datos erroneos con sus respectivas cantidades:"
   ]
  },
  {
   "cell_type": "code",
   "execution_count": null,
   "metadata": {},
   "outputs": [],
   "source": [
    "erroneos"
   ]
  },
  {
   "cell_type": "markdown",
   "metadata": {},
   "source": [
    "Al igual que bursometro no se puede saber a ciencia cierta que hacer con estos datos erroneos para modificarlos y que ya vuelvan datos correctos. La unica alternativa es discutir si mantener estos datos o eliminarlos de la tabla.\n",
    "\n",
    "Por ultimo, calculemos la cantidad de registros y pollos con datos erroneos:"
   ]
  },
  {
   "cell_type": "code",
   "execution_count": null,
   "metadata": {},
   "outputs": [],
   "source": [
    "tabla_e1=tabla.query(\"granja=='Vergel ' or granja=='Sta. Delfina' or granja=='Santa Defina'\")\n",
    "\n",
    "sexos=tabla['sexoAnimales'].unique()\n",
    "query=f\"sexoAnimales=='{sexos[3]}'\"\n",
    "for x in sexos[4:]:\n",
    "    query+=f\" or sexoAnimales=='{x}'\"\n",
    "tabla_e2=tabla.query(query)\n",
    "\n",
    "tabla_e3=tabla.query(\"bursometro>8 or bursometro<0\")\n",
    "\n",
    "datos_lesiones=tabla[['lesionTipo','lesionRango']].value_counts().reset_index()[['lesionTipo','lesionRango']]\n",
    "lista_e=[]\n",
    "for lesion,rango in zip(datos_lesiones['lesionTipo'],datos_lesiones['lesionRango']):\n",
    "    mayor=int(rango[-1])\n",
    "    consulta=tabla.query(\"lesionTipo==@lesion and (lesionPromedio>@mayor or lesionPromedio<0)\")\n",
    "    if consulta.shape[0]>0:\n",
    "        lista_e.append(consulta)\n",
    "tabla_e4=pd.concat(lista_e)"
   ]
  },
  {
   "cell_type": "code",
   "execution_count": null,
   "metadata": {},
   "outputs": [],
   "source": [
    "print(\"Cantidad de registros con al menos un dato erroneo:\")\n",
    "pd.concat([tabla_e1,tabla_e2,tabla_e3,tabla_e4]).drop_duplicates().shape[0]"
   ]
  },
  {
   "cell_type": "code",
   "execution_count": null,
   "metadata": {},
   "outputs": [],
   "source": [
    "print(\"Pollos con datos erroneos:\")\n",
    "x=pd.concat([tabla_e1,tabla_e2,tabla_e3]).drop_duplicates().shape[0]\n",
    "x/33+(pd.concat([tabla_e1,tabla_e2,tabla_e3,tabla_e4]).drop_duplicates().shape[0]-x)"
   ]
  },
  {
   "cell_type": "markdown",
   "metadata": {},
   "source": [
    "# Preguntas:\n",
    "\n",
    "¿Cuántos pollos tienen datos erróneos? \n",
    "\n",
    "R:\\ 73\n",
    "\n",
    "¿Qué hacemos con datos erróneos?\n",
    "\n",
    "R:\\ Hay casos donde pueden ser reemplazados por valores correctos, hay otros que se deben eliminar o mantener asi ya que no hay manera saber cual es el dato correcto. Esto igual se explica a lo largo del notebook.\n",
    "\n",
    "¿Cuántos registros de la tabla final contienen datos erróneos?\n",
    "\n",
    "R:\\ 2281 tienen al menos un atributo erroneo."
   ]
  }
 ],
 "metadata": {
  "interpreter": {
   "hash": "7cb436972df7f504d1b17ca4b6a761f81783dbdedd133c77f170786925feffbd"
  },
  "kernelspec": {
   "display_name": "Python 3",
   "language": "python",
   "name": "python3"
  },
  "language_info": {
   "codemirror_mode": {
    "name": "ipython",
    "version": 3
   },
   "file_extension": ".py",
   "mimetype": "text/x-python",
   "name": "python",
   "nbconvert_exporter": "python",
   "pygments_lexer": "ipython3",
   "version": "3.8.5"
  }
 },
 "nbformat": 4,
 "nbformat_minor": 4
}
