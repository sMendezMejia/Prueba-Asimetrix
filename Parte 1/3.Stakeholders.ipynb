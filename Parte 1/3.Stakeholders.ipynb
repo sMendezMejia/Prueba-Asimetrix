{
 "cells": [
  {
   "cell_type": "code",
   "execution_count": null,
   "metadata": {},
   "outputs": [],
   "source": [
    "import numpy as np\n",
    "import pandas as pd\n",
    "import matplotlib.pyplot as plt\n",
    "from tabulate import tabulate\n",
    "plt.style.use('ggplot')"
   ]
  },
  {
   "cell_type": "markdown",
   "metadata": {},
   "source": [
    "Carguemos los datos en un dataframe:"
   ]
  },
  {
   "cell_type": "code",
   "execution_count": null,
   "metadata": {},
   "outputs": [],
   "source": [
    "tabla=pd.read_csv('ETL.csv')"
   ]
  },
  {
   "cell_type": "markdown",
   "metadata": {},
   "source": [
    "# 1:\n",
    "Busquemos la diferencia de tiempos entre semanas:"
   ]
  },
  {
   "cell_type": "code",
   "execution_count": null,
   "metadata": {},
   "outputs": [],
   "source": [
    "fechas=pd.DataFrame()\n",
    "fechas['fecha']=pd.Series(pd.to_datetime(tabla['fecha'].value_counts().index)).sort_values()\n",
    "fechas['diferencias']=fechas['fecha'].diff().astype(str).apply(lambda x: x.split()[0])\n",
    "fechas.reset_index(drop=True,inplace=True)\n",
    "fechas.drop(index=[0],inplace=True)\n",
    "fechas['diferencias']=fechas['diferencias'].astype(int)\n",
    "fechas.plot.line(x='fecha',y='diferencias',figsize=(12,6))\n",
    "plt.plot(fechas['fecha'],np.ones(fechas.shape[0])*7)\n",
    "plt.legend(['Diferencias en dias real','Diferencias en dias ideal(7 dias)'])\n",
    "plt.show()"
   ]
  },
  {
   "cell_type": "code",
   "execution_count": null,
   "metadata": {},
   "outputs": [],
   "source": [
    "tabla['fecha'] = pd.to_datetime(tabla['fecha'])\n",
    "tabla.query(\"fecha>'2020-08-30' and fecha<'2020-11-01'\").shape"
   ]
  },
  {
   "cell_type": "markdown",
   "metadata": {},
   "source": [
    "825 registros en este periodo de tiempo equivalen a 25 pollos registrados a lo largo de dos meses.\n",
    "\n",
    "# 2:\n",
    "\n",
    "Ahora miremos la distribucion de edades de los pollos:"
   ]
  },
  {
   "cell_type": "code",
   "execution_count": null,
   "metadata": {},
   "outputs": [],
   "source": [
    "(tabla['edadEnDias'].value_counts()/33).sort_index().plot.bar(figsize=(10,7))\n",
    "plt.title('Cantidad de pollos por edad')\n",
    "plt.ylabel('Cantidad')\n",
    "plt.xlabel('Edad')\n",
    "plt.show()"
   ]
  },
  {
   "cell_type": "markdown",
   "metadata": {},
   "source": [
    "De aca se puede saber que a los pollos los registran mas o menos cuando su edad es un multiple de 7. ¿Esta distribucion cumple con lo esperado?\n",
    "\n",
    "# 3:\n",
    "\n",
    "Determinemos cuales son las 10 lesiones que mas presentan los pollos:"
   ]
  },
  {
   "cell_type": "code",
   "execution_count": null,
   "metadata": {},
   "outputs": [],
   "source": [
    "rangos=dict(tabla.iloc[:33,[0,2]].values)\n",
    "datos=tabla.query(\"lesionPromedio!=0\").groupby('lesionTipo')['lesionPromedio'].value_counts()\n",
    "orden=datos.sum(level='lesionTipo').sort_values(ascending=False).index\n",
    "for i,lesion in enumerate(orden[:10]):\n",
    "    print(f\"#{i+1}: - {lesion} / Rango:{rangos[lesion]}\")\n",
    "    resultados=datos.loc[lesion].reset_index(name=lesion)\n",
    "    resultados['porcentaje']=(100*resultados[lesion]/resultados[lesion].sum()).round(2)\n",
    "    print(tabulate(resultados.rename(columns={lesion:'conteo'}), headers='keys', tablefmt='psql'))\n",
    "    resultados.plot.bar(x='lesionPromedio',y=lesion,figsize=(8,6),fontsize=10)\n",
    "    plt.title(lesion,size=15)\n",
    "    plt.xticks(rotation=0)\n",
    "    plt.xlabel('lesionPromedio',size=12,weight=800)\n",
    "    plt.ylabel(\"Conteo\",size=12,weight=800)\n",
    "    plt.legend().remove()\n",
    "    plt.grid(color='gray')\n",
    "    plt.show()\n",
    "    print(\"-----------------------------------------------------------\\n\\n\")"
   ]
  },
  {
   "cell_type": "markdown",
   "metadata": {},
   "source": [
    "Hay varias enfermedades que estan presentes en una cuarta parte de los pollos ¿Esto es de cuidado o es normal?\n",
    "\n",
    "# 4:\n",
    "\n",
    "Visualicemos por ultimo las 4 variables que se plantearon como de interes:"
   ]
  },
  {
   "cell_type": "code",
   "execution_count": null,
   "metadata": {},
   "outputs": [],
   "source": [
    "def mostrar_atributo(atributo):\n",
    "    if atributo=='sexoAnimales':\n",
    "        resultado=tabla[atributo].replace(\n",
    "        {\n",
    "            'M ':'M',\n",
    "            'Macho':'M',\n",
    "            'Mac':'M',\n",
    "            'Hem':'H',\n",
    "            'Hembra':'H',\n",
    "        },inplace=True)\n",
    "        \n",
    "    resultado=(tabla[atributo].value_counts()/33).reset_index()\\\n",
    "                                .rename(columns={'index':atributo,atributo:'conteo'})\n",
    "    resultado['porcentaje']=(100*resultado['conteo']/resultado['conteo'].sum()).round(2)\n",
    "    print(tabulate(resultado, headers='keys', tablefmt='psql'))\n",
    "\n",
    "    resultado.plot.bar(x=atributo,y='conteo',figsize=(8,6))\n",
    "    plt.xticks(rotation=0)\n",
    "    plt.xlabel(atributo,size=12,weight=800)\n",
    "    plt.ylabel(\"Conteo\",size=12,weight=800)\n",
    "    plt.legend().remove()\n",
    "    plt.show()"
   ]
  },
  {
   "cell_type": "code",
   "execution_count": null,
   "metadata": {},
   "outputs": [],
   "source": [
    "mostrar_atributo('sexoAnimales')\n",
    "print()\n",
    "mostrar_atributo('bursometro')\n",
    "print()\n",
    "mostrar_atributo('condicionHigado')\n",
    "print()\n",
    "mostrar_atributo('integridadIntestinal')"
   ]
  }
 ],
 "metadata": {
  "kernelspec": {
   "display_name": "Python 3",
   "language": "python",
   "name": "python3"
  },
  "language_info": {
   "codemirror_mode": {
    "name": "ipython",
    "version": 3
   },
   "file_extension": ".py",
   "mimetype": "text/x-python",
   "name": "python",
   "nbconvert_exporter": "python",
   "pygments_lexer": "ipython3",
   "version": "3.8.5"
  }
 },
 "nbformat": 4,
 "nbformat_minor": 4
}
